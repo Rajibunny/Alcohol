{
 "cells": [
  {
   "cell_type": "code",
   "execution_count": 1,
   "metadata": {},
   "outputs": [
    {
     "data": {
      "text/plain": [
       "'C:\\\\Users\\\\Domain\\\\Downloads'"
      ]
     },
     "execution_count": 1,
     "metadata": {},
     "output_type": "execute_result"
    }
   ],
   "source": [
    "import os\n",
    "os.getcwd()"
   ]
  },
  {
   "cell_type": "code",
   "execution_count": 2,
   "metadata": {},
   "outputs": [
    {
     "data": {
      "text/plain": [
       "'C:\\\\Users\\\\Domain\\\\Desktop\\\\sales'"
      ]
     },
     "execution_count": 2,
     "metadata": {},
     "output_type": "execute_result"
    }
   ],
   "source": [
    "os.chdir(\"C:/Users/Domain/Desktop/sales\")\n",
    "os.getcwd()"
   ]
  },
  {
   "cell_type": "code",
   "execution_count": 3,
   "metadata": {},
   "outputs": [],
   "source": [
    "import pandas as pd\n",
    "import numpy as np\n",
    "import matplotlib.pyplot as plt\n",
    "%matplotlib inline"
   ]
  },
  {
   "cell_type": "code",
   "execution_count": 4,
   "metadata": {},
   "outputs": [
    {
     "data": {
      "text/html": [
       "<div>\n",
       "<style scoped>\n",
       "    .dataframe tbody tr th:only-of-type {\n",
       "        vertical-align: middle;\n",
       "    }\n",
       "\n",
       "    .dataframe tbody tr th {\n",
       "        vertical-align: top;\n",
       "    }\n",
       "\n",
       "    .dataframe thead th {\n",
       "        text-align: right;\n",
       "    }\n",
       "</style>\n",
       "<table border=\"1\" class=\"dataframe\">\n",
       "  <thead>\n",
       "    <tr style=\"text-align: right;\">\n",
       "      <th></th>\n",
       "      <th>year</th>\n",
       "      <th>unemployment</th>\n",
       "      <th>TaxCollection</th>\n",
       "      <th>Alcohol consumers</th>\n",
       "    </tr>\n",
       "  </thead>\n",
       "  <tbody>\n",
       "    <tr>\n",
       "      <th>0</th>\n",
       "      <td>1978</td>\n",
       "      <td>19</td>\n",
       "      <td>27.900</td>\n",
       "      <td>427.900</td>\n",
       "    </tr>\n",
       "    <tr>\n",
       "      <th>1</th>\n",
       "      <td>1978</td>\n",
       "      <td>18</td>\n",
       "      <td>33.770</td>\n",
       "      <td>433.770</td>\n",
       "    </tr>\n",
       "    <tr>\n",
       "      <th>2</th>\n",
       "      <td>1978</td>\n",
       "      <td>28</td>\n",
       "      <td>33.000</td>\n",
       "      <td>433.000</td>\n",
       "    </tr>\n",
       "    <tr>\n",
       "      <th>3</th>\n",
       "      <td>1979</td>\n",
       "      <td>33</td>\n",
       "      <td>22.705</td>\n",
       "      <td>422.705</td>\n",
       "    </tr>\n",
       "    <tr>\n",
       "      <th>4</th>\n",
       "      <td>1979</td>\n",
       "      <td>32</td>\n",
       "      <td>28.880</td>\n",
       "      <td>428.880</td>\n",
       "    </tr>\n",
       "    <tr>\n",
       "      <th>5</th>\n",
       "      <td>1979</td>\n",
       "      <td>31</td>\n",
       "      <td>25.740</td>\n",
       "      <td>425.740</td>\n",
       "    </tr>\n",
       "    <tr>\n",
       "      <th>6</th>\n",
       "      <td>1980</td>\n",
       "      <td>46</td>\n",
       "      <td>33.440</td>\n",
       "      <td>433.440</td>\n",
       "    </tr>\n",
       "    <tr>\n",
       "      <th>7</th>\n",
       "      <td>1980</td>\n",
       "      <td>37</td>\n",
       "      <td>27.740</td>\n",
       "      <td>427.740</td>\n",
       "    </tr>\n",
       "    <tr>\n",
       "      <th>8</th>\n",
       "      <td>1980</td>\n",
       "      <td>37</td>\n",
       "      <td>29.830</td>\n",
       "      <td>429.830</td>\n",
       "    </tr>\n",
       "    <tr>\n",
       "      <th>9</th>\n",
       "      <td>1981</td>\n",
       "      <td>60</td>\n",
       "      <td>25.840</td>\n",
       "      <td>425.840</td>\n",
       "    </tr>\n",
       "    <tr>\n",
       "      <th>10</th>\n",
       "      <td>1981</td>\n",
       "      <td>25</td>\n",
       "      <td>26.220</td>\n",
       "      <td>426.220</td>\n",
       "    </tr>\n",
       "    <tr>\n",
       "      <th>11</th>\n",
       "      <td>1981</td>\n",
       "      <td>62</td>\n",
       "      <td>26.290</td>\n",
       "      <td>426.290</td>\n",
       "    </tr>\n",
       "    <tr>\n",
       "      <th>12</th>\n",
       "      <td>1982</td>\n",
       "      <td>23</td>\n",
       "      <td>34.400</td>\n",
       "      <td>434.400</td>\n",
       "    </tr>\n",
       "    <tr>\n",
       "      <th>13</th>\n",
       "      <td>1982</td>\n",
       "      <td>56</td>\n",
       "      <td>39.820</td>\n",
       "      <td>439.820</td>\n",
       "    </tr>\n",
       "    <tr>\n",
       "      <th>14</th>\n",
       "      <td>1982</td>\n",
       "      <td>27</td>\n",
       "      <td>42.130</td>\n",
       "      <td>442.130</td>\n",
       "    </tr>\n",
       "    <tr>\n",
       "      <th>15</th>\n",
       "      <td>1983</td>\n",
       "      <td>19</td>\n",
       "      <td>24.600</td>\n",
       "      <td>424.600</td>\n",
       "    </tr>\n",
       "    <tr>\n",
       "      <th>16</th>\n",
       "      <td>1983</td>\n",
       "      <td>52</td>\n",
       "      <td>30.780</td>\n",
       "      <td>430.780</td>\n",
       "    </tr>\n",
       "    <tr>\n",
       "      <th>17</th>\n",
       "      <td>1983</td>\n",
       "      <td>23</td>\n",
       "      <td>23.845</td>\n",
       "      <td>423.845</td>\n",
       "    </tr>\n",
       "    <tr>\n",
       "      <th>18</th>\n",
       "      <td>1984</td>\n",
       "      <td>56</td>\n",
       "      <td>40.300</td>\n",
       "      <td>440.300</td>\n",
       "    </tr>\n",
       "    <tr>\n",
       "      <th>19</th>\n",
       "      <td>1984</td>\n",
       "      <td>30</td>\n",
       "      <td>35.300</td>\n",
       "      <td>435.300</td>\n",
       "    </tr>\n",
       "    <tr>\n",
       "      <th>20</th>\n",
       "      <td>1984</td>\n",
       "      <td>60</td>\n",
       "      <td>36.005</td>\n",
       "      <td>436.005</td>\n",
       "    </tr>\n",
       "    <tr>\n",
       "      <th>21</th>\n",
       "      <td>1985</td>\n",
       "      <td>30</td>\n",
       "      <td>32.400</td>\n",
       "      <td>432.400</td>\n",
       "    </tr>\n",
       "    <tr>\n",
       "      <th>22</th>\n",
       "      <td>1985</td>\n",
       "      <td>18</td>\n",
       "      <td>34.100</td>\n",
       "      <td>434.100</td>\n",
       "    </tr>\n",
       "    <tr>\n",
       "      <th>23</th>\n",
       "      <td>1985</td>\n",
       "      <td>34</td>\n",
       "      <td>31.920</td>\n",
       "      <td>431.920</td>\n",
       "    </tr>\n",
       "    <tr>\n",
       "      <th>24</th>\n",
       "      <td>1986</td>\n",
       "      <td>37</td>\n",
       "      <td>28.025</td>\n",
       "      <td>428.025</td>\n",
       "    </tr>\n",
       "    <tr>\n",
       "      <th>25</th>\n",
       "      <td>1986</td>\n",
       "      <td>59</td>\n",
       "      <td>27.720</td>\n",
       "      <td>427.720</td>\n",
       "    </tr>\n",
       "    <tr>\n",
       "      <th>26</th>\n",
       "      <td>1986</td>\n",
       "      <td>63</td>\n",
       "      <td>23.085</td>\n",
       "      <td>423.085</td>\n",
       "    </tr>\n",
       "    <tr>\n",
       "      <th>27</th>\n",
       "      <td>1987</td>\n",
       "      <td>55</td>\n",
       "      <td>32.775</td>\n",
       "      <td>423.000</td>\n",
       "    </tr>\n",
       "    <tr>\n",
       "      <th>28</th>\n",
       "      <td>1987</td>\n",
       "      <td>23</td>\n",
       "      <td>17.385</td>\n",
       "      <td>417.385</td>\n",
       "    </tr>\n",
       "    <tr>\n",
       "      <th>29</th>\n",
       "      <td>1987</td>\n",
       "      <td>31</td>\n",
       "      <td>36.300</td>\n",
       "      <td>436.300</td>\n",
       "    </tr>\n",
       "    <tr>\n",
       "      <th>...</th>\n",
       "      <td>...</td>\n",
       "      <td>...</td>\n",
       "      <td>...</td>\n",
       "      <td>...</td>\n",
       "    </tr>\n",
       "    <tr>\n",
       "      <th>93</th>\n",
       "      <td>2013</td>\n",
       "      <td>35</td>\n",
       "      <td>34.770</td>\n",
       "      <td>434.770</td>\n",
       "    </tr>\n",
       "    <tr>\n",
       "      <th>94</th>\n",
       "      <td>2013</td>\n",
       "      <td>64</td>\n",
       "      <td>31.300</td>\n",
       "      <td>431.300</td>\n",
       "    </tr>\n",
       "    <tr>\n",
       "      <th>95</th>\n",
       "      <td>2014</td>\n",
       "      <td>28</td>\n",
       "      <td>37.620</td>\n",
       "      <td>437.620</td>\n",
       "    </tr>\n",
       "    <tr>\n",
       "      <th>96</th>\n",
       "      <td>2015</td>\n",
       "      <td>54</td>\n",
       "      <td>30.800</td>\n",
       "      <td>430.800</td>\n",
       "    </tr>\n",
       "    <tr>\n",
       "      <th>97</th>\n",
       "      <td>2016</td>\n",
       "      <td>55</td>\n",
       "      <td>38.280</td>\n",
       "      <td>438.280</td>\n",
       "    </tr>\n",
       "    <tr>\n",
       "      <th>98</th>\n",
       "      <td>2016</td>\n",
       "      <td>56</td>\n",
       "      <td>19.950</td>\n",
       "      <td>419.950</td>\n",
       "    </tr>\n",
       "    <tr>\n",
       "      <th>99</th>\n",
       "      <td>2016</td>\n",
       "      <td>38</td>\n",
       "      <td>19.300</td>\n",
       "      <td>419.300</td>\n",
       "    </tr>\n",
       "    <tr>\n",
       "      <th>100</th>\n",
       "      <td>2017</td>\n",
       "      <td>41</td>\n",
       "      <td>31.600</td>\n",
       "      <td>431.600</td>\n",
       "    </tr>\n",
       "    <tr>\n",
       "      <th>101</th>\n",
       "      <td>2018</td>\n",
       "      <td>30</td>\n",
       "      <td>25.460</td>\n",
       "      <td>425.460</td>\n",
       "    </tr>\n",
       "    <tr>\n",
       "      <th>102</th>\n",
       "      <td>2018</td>\n",
       "      <td>18</td>\n",
       "      <td>30.115</td>\n",
       "      <td>424.000</td>\n",
       "    </tr>\n",
       "    <tr>\n",
       "      <th>103</th>\n",
       "      <td>2001</td>\n",
       "      <td>61</td>\n",
       "      <td>29.920</td>\n",
       "      <td>439.100</td>\n",
       "    </tr>\n",
       "    <tr>\n",
       "      <th>104</th>\n",
       "      <td>2004</td>\n",
       "      <td>34</td>\n",
       "      <td>27.500</td>\n",
       "      <td>426.315</td>\n",
       "    </tr>\n",
       "    <tr>\n",
       "      <th>105</th>\n",
       "      <td>2005</td>\n",
       "      <td>20</td>\n",
       "      <td>28.025</td>\n",
       "      <td>436.190</td>\n",
       "    </tr>\n",
       "    <tr>\n",
       "      <th>106</th>\n",
       "      <td>2005</td>\n",
       "      <td>19</td>\n",
       "      <td>28.400</td>\n",
       "      <td>423.980</td>\n",
       "    </tr>\n",
       "    <tr>\n",
       "      <th>107</th>\n",
       "      <td>2006</td>\n",
       "      <td>26</td>\n",
       "      <td>30.875</td>\n",
       "      <td>424.750</td>\n",
       "    </tr>\n",
       "    <tr>\n",
       "      <th>108</th>\n",
       "      <td>2007</td>\n",
       "      <td>29</td>\n",
       "      <td>27.940</td>\n",
       "      <td>428.500</td>\n",
       "    </tr>\n",
       "    <tr>\n",
       "      <th>109</th>\n",
       "      <td>2007</td>\n",
       "      <td>63</td>\n",
       "      <td>35.090</td>\n",
       "      <td>428.100</td>\n",
       "    </tr>\n",
       "    <tr>\n",
       "      <th>110</th>\n",
       "      <td>2008</td>\n",
       "      <td>54</td>\n",
       "      <td>33.630</td>\n",
       "      <td>432.010</td>\n",
       "    </tr>\n",
       "    <tr>\n",
       "      <th>111</th>\n",
       "      <td>2009</td>\n",
       "      <td>55</td>\n",
       "      <td>29.700</td>\n",
       "      <td>427.400</td>\n",
       "    </tr>\n",
       "    <tr>\n",
       "      <th>112</th>\n",
       "      <td>2010</td>\n",
       "      <td>37</td>\n",
       "      <td>30.800</td>\n",
       "      <td>444.010</td>\n",
       "    </tr>\n",
       "    <tr>\n",
       "      <th>113</th>\n",
       "      <td>2010</td>\n",
       "      <td>21</td>\n",
       "      <td>35.720</td>\n",
       "      <td>429.590</td>\n",
       "    </tr>\n",
       "    <tr>\n",
       "      <th>114</th>\n",
       "      <td>2011</td>\n",
       "      <td>52</td>\n",
       "      <td>32.205</td>\n",
       "      <td>435.530</td>\n",
       "    </tr>\n",
       "    <tr>\n",
       "      <th>115</th>\n",
       "      <td>2013</td>\n",
       "      <td>60</td>\n",
       "      <td>28.595</td>\n",
       "      <td>439.805</td>\n",
       "    </tr>\n",
       "    <tr>\n",
       "      <th>116</th>\n",
       "      <td>2014</td>\n",
       "      <td>58</td>\n",
       "      <td>49.060</td>\n",
       "      <td>432.965</td>\n",
       "    </tr>\n",
       "    <tr>\n",
       "      <th>117</th>\n",
       "      <td>2014</td>\n",
       "      <td>29</td>\n",
       "      <td>27.940</td>\n",
       "      <td>426.885</td>\n",
       "    </tr>\n",
       "    <tr>\n",
       "      <th>118</th>\n",
       "      <td>2015</td>\n",
       "      <td>49</td>\n",
       "      <td>27.170</td>\n",
       "      <td>438.285</td>\n",
       "    </tr>\n",
       "    <tr>\n",
       "      <th>119</th>\n",
       "      <td>2015</td>\n",
       "      <td>37</td>\n",
       "      <td>23.370</td>\n",
       "      <td>437.620</td>\n",
       "    </tr>\n",
       "    <tr>\n",
       "      <th>120</th>\n",
       "      <td>2017</td>\n",
       "      <td>44</td>\n",
       "      <td>37.100</td>\n",
       "      <td>441.230</td>\n",
       "    </tr>\n",
       "    <tr>\n",
       "      <th>121</th>\n",
       "      <td>2017</td>\n",
       "      <td>18</td>\n",
       "      <td>23.750</td>\n",
       "      <td>444.800</td>\n",
       "    </tr>\n",
       "    <tr>\n",
       "      <th>122</th>\n",
       "      <td>2018</td>\n",
       "      <td>20</td>\n",
       "      <td>28.975</td>\n",
       "      <td>422.895</td>\n",
       "    </tr>\n",
       "  </tbody>\n",
       "</table>\n",
       "<p>123 rows × 4 columns</p>\n",
       "</div>"
      ],
      "text/plain": [
       "     year  unemployment  TaxCollection  Alcohol consumers\n",
       "0    1978            19         27.900            427.900\n",
       "1    1978            18         33.770            433.770\n",
       "2    1978            28         33.000            433.000\n",
       "3    1979            33         22.705            422.705\n",
       "4    1979            32         28.880            428.880\n",
       "5    1979            31         25.740            425.740\n",
       "6    1980            46         33.440            433.440\n",
       "7    1980            37         27.740            427.740\n",
       "8    1980            37         29.830            429.830\n",
       "9    1981            60         25.840            425.840\n",
       "10   1981            25         26.220            426.220\n",
       "11   1981            62         26.290            426.290\n",
       "12   1982            23         34.400            434.400\n",
       "13   1982            56         39.820            439.820\n",
       "14   1982            27         42.130            442.130\n",
       "15   1983            19         24.600            424.600\n",
       "16   1983            52         30.780            430.780\n",
       "17   1983            23         23.845            423.845\n",
       "18   1984            56         40.300            440.300\n",
       "19   1984            30         35.300            435.300\n",
       "20   1984            60         36.005            436.005\n",
       "21   1985            30         32.400            432.400\n",
       "22   1985            18         34.100            434.100\n",
       "23   1985            34         31.920            431.920\n",
       "24   1986            37         28.025            428.025\n",
       "25   1986            59         27.720            427.720\n",
       "26   1986            63         23.085            423.085\n",
       "27   1987            55         32.775            423.000\n",
       "28   1987            23         17.385            417.385\n",
       "29   1987            31         36.300            436.300\n",
       "..    ...           ...            ...                ...\n",
       "93   2013            35         34.770            434.770\n",
       "94   2013            64         31.300            431.300\n",
       "95   2014            28         37.620            437.620\n",
       "96   2015            54         30.800            430.800\n",
       "97   2016            55         38.280            438.280\n",
       "98   2016            56         19.950            419.950\n",
       "99   2016            38         19.300            419.300\n",
       "100  2017            41         31.600            431.600\n",
       "101  2018            30         25.460            425.460\n",
       "102  2018            18         30.115            424.000\n",
       "103  2001            61         29.920            439.100\n",
       "104  2004            34         27.500            426.315\n",
       "105  2005            20         28.025            436.190\n",
       "106  2005            19         28.400            423.980\n",
       "107  2006            26         30.875            424.750\n",
       "108  2007            29         27.940            428.500\n",
       "109  2007            63         35.090            428.100\n",
       "110  2008            54         33.630            432.010\n",
       "111  2009            55         29.700            427.400\n",
       "112  2010            37         30.800            444.010\n",
       "113  2010            21         35.720            429.590\n",
       "114  2011            52         32.205            435.530\n",
       "115  2013            60         28.595            439.805\n",
       "116  2014            58         49.060            432.965\n",
       "117  2014            29         27.940            426.885\n",
       "118  2015            49         27.170            438.285\n",
       "119  2015            37         23.370            437.620\n",
       "120  2017            44         37.100            441.230\n",
       "121  2017            18         23.750            444.800\n",
       "122  2018            20         28.975            422.895\n",
       "\n",
       "[123 rows x 4 columns]"
      ]
     },
     "execution_count": 4,
     "metadata": {},
     "output_type": "execute_result"
    }
   ],
   "source": [
    "data1=pd.read_csv(\"Alcoholicprediction.csv\")\n",
    "data1"
   ]
  },
  {
   "cell_type": "code",
   "execution_count": 5,
   "metadata": {},
   "outputs": [
    {
     "data": {
      "text/html": [
       "<div>\n",
       "<style scoped>\n",
       "    .dataframe tbody tr th:only-of-type {\n",
       "        vertical-align: middle;\n",
       "    }\n",
       "\n",
       "    .dataframe tbody tr th {\n",
       "        vertical-align: top;\n",
       "    }\n",
       "\n",
       "    .dataframe thead th {\n",
       "        text-align: right;\n",
       "    }\n",
       "</style>\n",
       "<table border=\"1\" class=\"dataframe\">\n",
       "  <thead>\n",
       "    <tr style=\"text-align: right;\">\n",
       "      <th></th>\n",
       "      <th>year</th>\n",
       "      <th>unemployment</th>\n",
       "      <th>TaxCollection</th>\n",
       "      <th>Alcohol consumers</th>\n",
       "    </tr>\n",
       "  </thead>\n",
       "  <tbody>\n",
       "    <tr>\n",
       "      <th>count</th>\n",
       "      <td>123.000000</td>\n",
       "      <td>123.000000</td>\n",
       "      <td>123.000000</td>\n",
       "      <td>123.000000</td>\n",
       "    </tr>\n",
       "    <tr>\n",
       "      <th>mean</th>\n",
       "      <td>1998.000000</td>\n",
       "      <td>38.691057</td>\n",
       "      <td>30.794268</td>\n",
       "      <td>431.268293</td>\n",
       "    </tr>\n",
       "    <tr>\n",
       "      <th>std</th>\n",
       "      <td>11.880553</td>\n",
       "      <td>14.994059</td>\n",
       "      <td>5.631602</td>\n",
       "      <td>6.219027</td>\n",
       "    </tr>\n",
       "    <tr>\n",
       "      <th>min</th>\n",
       "      <td>1978.000000</td>\n",
       "      <td>18.000000</td>\n",
       "      <td>17.385000</td>\n",
       "      <td>417.385000</td>\n",
       "    </tr>\n",
       "    <tr>\n",
       "      <th>25%</th>\n",
       "      <td>1988.000000</td>\n",
       "      <td>26.000000</td>\n",
       "      <td>27.075000</td>\n",
       "      <td>426.315000</td>\n",
       "    </tr>\n",
       "    <tr>\n",
       "      <th>50%</th>\n",
       "      <td>1998.000000</td>\n",
       "      <td>37.000000</td>\n",
       "      <td>30.780000</td>\n",
       "      <td>431.160000</td>\n",
       "    </tr>\n",
       "    <tr>\n",
       "      <th>75%</th>\n",
       "      <td>2008.000000</td>\n",
       "      <td>54.500000</td>\n",
       "      <td>35.145000</td>\n",
       "      <td>436.245000</td>\n",
       "    </tr>\n",
       "    <tr>\n",
       "      <th>max</th>\n",
       "      <td>2018.000000</td>\n",
       "      <td>64.000000</td>\n",
       "      <td>49.060000</td>\n",
       "      <td>444.800000</td>\n",
       "    </tr>\n",
       "  </tbody>\n",
       "</table>\n",
       "</div>"
      ],
      "text/plain": [
       "              year  unemployment  TaxCollection  Alcohol consumers\n",
       "count   123.000000    123.000000     123.000000         123.000000\n",
       "mean   1998.000000     38.691057      30.794268         431.268293\n",
       "std      11.880553     14.994059       5.631602           6.219027\n",
       "min    1978.000000     18.000000      17.385000         417.385000\n",
       "25%    1988.000000     26.000000      27.075000         426.315000\n",
       "50%    1998.000000     37.000000      30.780000         431.160000\n",
       "75%    2008.000000     54.500000      35.145000         436.245000\n",
       "max    2018.000000     64.000000      49.060000         444.800000"
      ]
     },
     "execution_count": 5,
     "metadata": {},
     "output_type": "execute_result"
    }
   ],
   "source": [
    "data1.describe()"
   ]
  },
  {
   "cell_type": "code",
   "execution_count": 6,
   "metadata": {},
   "outputs": [
    {
     "data": {
      "text/plain": [
       "<matplotlib.axes._subplots.AxesSubplot at 0x28a35936e48>"
      ]
     },
     "execution_count": 6,
     "metadata": {},
     "output_type": "execute_result"
    },
    {
     "data": {
      "image/png": "[encoded data removed]",
      "text/plain": [
       "<Figure size 432x288 with 1 Axes>"
      ]
     },
     "metadata": {
      "needs_background": "light"
     },
     "output_type": "display_data"
    }
   ],
   "source": [
    "data1.boxplot(column=['unemployment','TaxCollection','Alcohol consumers'])"
   ]
  },
  {
   "cell_type": "code",
   "execution_count": 7,
   "metadata": {},
   "outputs": [
    {
     "data": {
      "text/plain": [
       "year                 0\n",
       "unemployment         0\n",
       "TaxCollection        0\n",
       "Alcohol consumers    0\n",
       "dtype: int64"
      ]
     },
     "execution_count": 7,
     "metadata": {},
     "output_type": "execute_result"
    }
   ],
   "source": [
    "data1.apply(lambda x:sum(x.isnull()),axis=0)"
   ]
  },
  {
   "cell_type": "code",
   "execution_count": 8,
   "metadata": {},
   "outputs": [
    {
     "name": "stderr",
     "output_type": "stream",
     "text": [
      "C:\\Users\\Domain\\Anaconda3\\lib\\site-packages\\scipy\\stats\\stats.py:1713: FutureWarning: Using a non-tuple sequence for multidimensional indexing is deprecated; use `arr[tuple(seq)]` instead of `arr[seq]`. In the future this will be interpreted as an array index, `arr[np.array(seq)]`, which will result either in an error or a different result.\n",
      "  return np.add.reduce(sorted[indexer] * weights, axis=axis) / sumval\n"
     ]
    },
    {
     "data": {
      "text/plain": [
       "<matplotlib.axes._subplots.AxesSubplot at 0x28a3687a400>"
      ]
     },
     "execution_count": 8,
     "metadata": {},
     "output_type": "execute_result"
    },
    {
     "data": {
      "image/png": "[encoded data removed]",
      "text/plain": [
       "<Figure size 432x288 with 1 Axes>"
      ]
     },
     "metadata": {
      "needs_background": "light"
     },
     "output_type": "display_data"
    }
   ],
   "source": [
    "import seaborn as sns\n",
    "sns.distplot(data1['unemployment'])"
   ]
  },
  {
   "cell_type": "code",
   "execution_count": 9,
   "metadata": {},
   "outputs": [
    {
     "data": {
      "text/plain": [
       "<matplotlib.axes._subplots.AxesSubplot at 0x28a3695f160>"
      ]
     },
     "execution_count": 9,
     "metadata": {},
     "output_type": "execute_result"
    },
    {
     "data": {
      "image/png": "[encoded data removed]",
      "text/plain": [
       "<Figure size 432x288 with 1 Axes>"
      ]
     },
     "metadata": {
      "needs_background": "light"
     },
     "output_type": "display_data"
    }
   ],
   "source": [
    "sns.distplot(data1['TaxCollection'])"
   ]
  },
  {
   "cell_type": "code",
   "execution_count": 10,
   "metadata": {},
   "outputs": [
    {
     "data": {
      "text/plain": [
       "<matplotlib.axes._subplots.AxesSubplot at 0x28a379b31d0>"
      ]
     },
     "execution_count": 10,
     "metadata": {},
     "output_type": "execute_result"
    },
    {
     "data": {
      "image/png": "[encoded data removed]",
      "text/plain": [
       "<Figure size 432x288 with 1 Axes>"
      ]
     },
     "metadata": {
      "needs_background": "light"
     },
     "output_type": "display_data"
    }
   ],
   "source": [
    "sns.distplot(data1['Alcohol consumers'])"
   ]
  },
  {
   "cell_type": "code",
   "execution_count": 11,
   "metadata": {},
   "outputs": [
    {
     "data": {
      "text/html": [
       "<div>\n",
       "<style scoped>\n",
       "    .dataframe tbody tr th:only-of-type {\n",
       "        vertical-align: middle;\n",
       "    }\n",
       "\n",
       "    .dataframe tbody tr th {\n",
       "        vertical-align: top;\n",
       "    }\n",
       "\n",
       "    .dataframe thead th {\n",
       "        text-align: right;\n",
       "    }\n",
       "</style>\n",
       "<table border=\"1\" class=\"dataframe\">\n",
       "  <thead>\n",
       "    <tr style=\"text-align: right;\">\n",
       "      <th></th>\n",
       "      <th>year</th>\n",
       "      <th>unemployment</th>\n",
       "      <th>TaxCollection</th>\n",
       "      <th>Alcohol consumers</th>\n",
       "    </tr>\n",
       "  </thead>\n",
       "  <tbody>\n",
       "    <tr>\n",
       "      <th>year</th>\n",
       "      <td>1.000000</td>\n",
       "      <td>0.131368</td>\n",
       "      <td>0.003243</td>\n",
       "      <td>0.109822</td>\n",
       "    </tr>\n",
       "    <tr>\n",
       "      <th>unemployment</th>\n",
       "      <td>0.131368</td>\n",
       "      <td>1.000000</td>\n",
       "      <td>0.068614</td>\n",
       "      <td>0.075355</td>\n",
       "    </tr>\n",
       "    <tr>\n",
       "      <th>TaxCollection</th>\n",
       "      <td>0.003243</td>\n",
       "      <td>0.068614</td>\n",
       "      <td>1.000000</td>\n",
       "      <td>0.758662</td>\n",
       "    </tr>\n",
       "    <tr>\n",
       "      <th>Alcohol consumers</th>\n",
       "      <td>0.109822</td>\n",
       "      <td>0.075355</td>\n",
       "      <td>0.758662</td>\n",
       "      <td>1.000000</td>\n",
       "    </tr>\n",
       "  </tbody>\n",
       "</table>\n",
       "</div>"
      ],
      "text/plain": [
       "                       year  unemployment  TaxCollection  Alcohol consumers\n",
       "year               1.000000      0.131368       0.003243           0.109822\n",
       "unemployment       0.131368      1.000000       0.068614           0.075355\n",
       "TaxCollection      0.003243      0.068614       1.000000           0.758662\n",
       "Alcohol consumers  0.109822      0.075355       0.758662           1.000000"
      ]
     },
     "execution_count": 11,
     "metadata": {},
     "output_type": "execute_result"
    }
   ],
   "source": [
    "data1.corr()"
   ]
  },
  {
   "cell_type": "code",
   "execution_count": 12,
   "metadata": {},
   "outputs": [
    {
     "data": {
      "text/plain": [
       "<matplotlib.axes._subplots.AxesSubplot at 0x28a379ff550>"
      ]
     },
     "execution_count": 12,
     "metadata": {},
     "output_type": "execute_result"
    },
    {
     "data": {
      "image/png": "[encoded data removed]",
      "text/plain": [
       "<Figure size 432x288 with 2 Axes>"
      ]
     },
     "metadata": {
      "needs_background": "light"
     },
     "output_type": "display_data"
    }
   ],
   "source": [
    "sns.heatmap(data1.corr())"
   ]
  },
  {
   "cell_type": "code",
   "execution_count": 13,
   "metadata": {},
   "outputs": [
    {
     "data": {
      "text/plain": [
       "array([[0.33196527],\n",
       "       [0.51728493],\n",
       "       [0.49297553],\n",
       "       [0.1679558 ],\n",
       "       [0.3629045 ],\n",
       "       [0.26377269],\n",
       "       [0.50686661],\n",
       "       [0.32691397],\n",
       "       [0.39289661],\n",
       "       [0.26692976],\n",
       "       [0.2789266 ],\n",
       "       [0.28113654],\n",
       "       [0.53717443],\n",
       "       [0.70828729],\n",
       "       [0.78121547],\n",
       "       [0.22778216],\n",
       "       [0.42288871],\n",
       "       [0.20394633],\n",
       "       [0.7234412 ],\n",
       "       [0.565588  ],\n",
       "       [0.5878453 ],\n",
       "       [0.47403315],\n",
       "       [0.52770324],\n",
       "       [0.45887924],\n",
       "       [0.3359116 ],\n",
       "       [0.32628256],\n",
       "       [0.17995264],\n",
       "       [0.48587214],\n",
       "       [0.        ],\n",
       "       [0.59715864],\n",
       "       [0.57505919],\n",
       "       [0.28192581],\n",
       "       [0.35406472],\n",
       "       [0.34490923],\n",
       "       [0.60031571],\n",
       "       [0.09597474],\n",
       "       [0.49187056],\n",
       "       [0.10781373],\n",
       "       [0.60883978],\n",
       "       [0.71081294],\n",
       "       [0.29092344],\n",
       "       [0.60757695],\n",
       "       [0.13875296],\n",
       "       [0.42352013],\n",
       "       [0.62083662],\n",
       "       [0.62872928],\n",
       "       [0.6718232 ],\n",
       "       [0.54885556],\n",
       "       [0.22557222],\n",
       "       [0.56243094],\n",
       "       [0.57584846],\n",
       "       [0.51286504],\n",
       "       [0.33512234],\n",
       "       [0.53812155],\n",
       "       [0.35690608],\n",
       "       [0.61783741],\n",
       "       [0.45588003],\n",
       "       [0.45130229],\n",
       "       [0.17348066],\n",
       "       [0.62983425],\n",
       "       [0.31491713],\n",
       "       [0.51381215],\n",
       "       [0.23093923],\n",
       "       [0.26992897],\n",
       "       [0.15895817],\n",
       "       [0.36353591],\n",
       "       [0.68555643],\n",
       "       [0.28192581],\n",
       "       [0.59368587],\n",
       "       [0.20820837],\n",
       "       [0.23251776],\n",
       "       [0.35090766],\n",
       "       [0.3382794 ],\n",
       "       [0.4617206 ],\n",
       "       [0.31617995],\n",
       "       [0.52486188],\n",
       "       [0.38531965],\n",
       "       [0.57284925],\n",
       "       [0.70781373],\n",
       "       [0.49187056],\n",
       "       [0.29992107],\n",
       "       [0.65982636],\n",
       "       [0.63883189],\n",
       "       [0.75280189],\n",
       "       [0.54980268],\n",
       "       [0.17395422],\n",
       "       [0.43488556],\n",
       "       [0.30986582],\n",
       "       [0.32691397],\n",
       "       [0.30292028],\n",
       "       [0.69786898],\n",
       "       [0.23393844],\n",
       "       [0.39289661],\n",
       "       [0.54885556],\n",
       "       [0.43930545],\n",
       "       [0.63883189],\n",
       "       [0.42352013],\n",
       "       [0.65966851],\n",
       "       [0.08097869],\n",
       "       [0.06045777],\n",
       "       [0.44877664],\n",
       "       [0.25493291],\n",
       "       [0.40189424],\n",
       "       [0.39573796],\n",
       "       [0.31933702],\n",
       "       [0.3359116 ],\n",
       "       [0.34775059],\n",
       "       [0.42588792],\n",
       "       [0.3332281 ],\n",
       "       [0.55895817],\n",
       "       [0.51286504],\n",
       "       [0.38879242],\n",
       "       [0.42352013],\n",
       "       [0.57884767],\n",
       "       [0.46787687],\n",
       "       [0.35390687],\n",
       "       [1.        ],\n",
       "       [0.3332281 ],\n",
       "       [0.30891871],\n",
       "       [0.18895028],\n",
       "       [0.62241515],\n",
       "       [0.20094712],\n",
       "       [0.36590371]])"
      ]
     },
     "execution_count": 13,
     "metadata": {},
     "output_type": "execute_result"
    }
   ],
   "source": [
    "x=data1[['TaxCollection']]\n",
    "y=data1['Alcohol consumers']\n",
    "from sklearn import preprocessing\n",
    "minmax=preprocessing.MinMaxScaler(feature_range=(0,1))\n",
    "minmax.fit(x).transform(x)"
   ]
  },
  {
   "cell_type": "code",
   "execution_count": 14,
   "metadata": {},
   "outputs": [
    {
     "data": {
      "text/html": [
       "<table class=\"simpletable\">\n",
       "<caption>OLS Regression Results</caption>\n",
       "<tr>\n",
       "  <th>Dep. Variable:</th>    <td>Alcohol consumers</td> <th>  R-squared:         </th> <td>   0.972</td>\n",
       "</tr>\n",
       "<tr>\n",
       "  <th>Model:</th>                   <td>OLS</td>        <th>  Adj. R-squared:    </th> <td>   0.971</td>\n",
       "</tr>\n",
       "<tr>\n",
       "  <th>Method:</th>             <td>Least Squares</td>   <th>  F-statistic:       </th> <td>   4164.</td>\n",
       "</tr>\n",
       "<tr>\n",
       "  <th>Date:</th>             <td>Tue, 04 Jun 2019</td>  <th>  Prob (F-statistic):</th> <td>3.76e-96</td>\n",
       "</tr>\n",
       "<tr>\n",
       "  <th>Time:</th>                 <td>14:13:09</td>      <th>  Log-Likelihood:    </th> <td> -701.86</td>\n",
       "</tr>\n",
       "<tr>\n",
       "  <th>No. Observations:</th>      <td>   123</td>       <th>  AIC:               </th> <td>   1406.</td>\n",
       "</tr>\n",
       "<tr>\n",
       "  <th>Df Residuals:</th>          <td>   122</td>       <th>  BIC:               </th> <td>   1409.</td>\n",
       "</tr>\n",
       "<tr>\n",
       "  <th>Df Model:</th>              <td>     1</td>       <th>                     </th>     <td> </td>   \n",
       "</tr>\n",
       "<tr>\n",
       "  <th>Covariance Type:</th>      <td>nonrobust</td>     <th>                     </th>     <td> </td>   \n",
       "</tr>\n",
       "</table>\n",
       "<table class=\"simpletable\">\n",
       "<tr>\n",
       "        <td></td>           <th>coef</th>     <th>std err</th>      <th>t</th>      <th>P>|t|</th>  <th>[0.025</th>    <th>0.975]</th>  \n",
       "</tr>\n",
       "<tr>\n",
       "  <th>TaxCollection</th> <td>   13.5821</td> <td>    0.210</td> <td>   64.532</td> <td> 0.000</td> <td>   13.165</td> <td>   13.999</td>\n",
       "</tr>\n",
       "</table>\n",
       "<table class=\"simpletable\">\n",
       "<tr>\n",
       "  <th>Omnibus:</th>       <td> 1.166</td> <th>  Durbin-Watson:     </th> <td>   2.057</td>\n",
       "</tr>\n",
       "<tr>\n",
       "  <th>Prob(Omnibus):</th> <td> 0.558</td> <th>  Jarque-Bera (JB):  </th> <td>   0.963</td>\n",
       "</tr>\n",
       "<tr>\n",
       "  <th>Skew:</th>          <td>-0.217</td> <th>  Prob(JB):          </th> <td>   0.618</td>\n",
       "</tr>\n",
       "<tr>\n",
       "  <th>Kurtosis:</th>      <td> 3.021</td> <th>  Cond. No.          </th> <td>    1.00</td>\n",
       "</tr>\n",
       "</table><br/><br/>Warnings:<br/>[1] Standard Errors assume that the covariance matrix of the errors is correctly specified."
      ],
      "text/plain": [
       "<class 'statsmodels.iolib.summary.Summary'>\n",
       "\"\"\"\n",
       "                            OLS Regression Results                            \n",
       "==============================================================================\n",
       "Dep. Variable:      Alcohol consumers   R-squared:                       0.972\n",
       "Model:                            OLS   Adj. R-squared:                  0.971\n",
       "Method:                 Least Squares   F-statistic:                     4164.\n",
       "Date:                Tue, 04 Jun 2019   Prob (F-statistic):           3.76e-96\n",
       "Time:                        14:13:09   Log-Likelihood:                -701.86\n",
       "No. Observations:                 123   AIC:                             1406.\n",
       "Df Residuals:                     122   BIC:                             1409.\n",
       "Df Model:                           1                                         \n",
       "Covariance Type:            nonrobust                                         \n",
       "=================================================================================\n",
       "                    coef    std err          t      P>|t|      [0.025      0.975]\n",
       "---------------------------------------------------------------------------------\n",
       "TaxCollection    13.5821      0.210     64.532      0.000      13.165      13.999\n",
       "==============================================================================\n",
       "Omnibus:                        1.166   Durbin-Watson:                   2.057\n",
       "Prob(Omnibus):                  0.558   Jarque-Bera (JB):                0.963\n",
       "Skew:                          -0.217   Prob(JB):                        0.618\n",
       "Kurtosis:                       3.021   Cond. No.                         1.00\n",
       "==============================================================================\n",
       "\n",
       "Warnings:\n",
       "[1] Standard Errors assume that the covariance matrix of the errors is correctly specified.\n",
       "\"\"\""
      ]
     },
     "execution_count": 14,
     "metadata": {},
     "output_type": "execute_result"
    }
   ],
   "source": [
    "import statsmodels.api as sm\n",
    "osl_model=sm.OLS(y,x).fit()\n",
    "predictions=osl_model.predict()\n",
    "osl_model.summary()"
   ]
  },
  {
   "cell_type": "code",
   "execution_count": 15,
   "metadata": {},
   "outputs": [
    {
     "data": {
      "text/plain": [
       "LinearRegression(copy_X=True, fit_intercept=True, n_jobs=None,\n",
       "         normalize=False)"
      ]
     },
     "execution_count": 15,
     "metadata": {},
     "output_type": "execute_result"
    }
   ],
   "source": [
    "from sklearn.model_selection import train_test_split,cross_val_score\n",
    "x_train,x_test,y_train,y_test=train_test_split(x,y,test_size=0.40,random_state=1)\n",
    "from sklearn import linear_model as lm\n",
    "model=lm.LinearRegression()\n",
    "results=model.fit(x_test,y_test)\n",
    "results"
   ]
  },
  {
   "cell_type": "code",
   "execution_count": 16,
   "metadata": {},
   "outputs": [
    {
     "name": "stdout",
     "output_type": "stream",
     "text": [
      "Accuracy of the model: 0.5503932316404454\n"
     ]
    }
   ],
   "source": [
    "accuracy=model.score(x,y)\n",
    "print('Accuracy of the model:',accuracy)"
   ]
  },
  {
   "cell_type": "code",
   "execution_count": 17,
   "metadata": {},
   "outputs": [
    {
     "name": "stdout",
     "output_type": "stream",
     "text": [
      "predicted AdmitChance:\n",
      "[425.03869821 434.41129421 431.30384728 427.96606399 435.73468131\n",
      " 426.5337906  426.5337906  436.87798726 436.55551635 439.02639733\n",
      " 431.4671767  428.20477622 420.65811939 445.58470177 427.52633093\n",
      " 435.56716396 432.13305818 427.09078581 427.89486911 432.66073785\n",
      " 428.69895241 437.83283618 427.01121506 424.46495127 423.66924384\n",
      " 428.52305919 421.60040451 424.57802549 427.72735176 421.20255079\n",
      " 434.25215272 422.73533459 430.9604367  435.44571387 433.33080727\n",
      " 435.52528462 425.18108796 423.65668004 426.45421986 429.36902183\n",
      " 428.44767638 436.00270908 435.20700164 434.05950776 428.76177142\n",
      " 431.94460116 432.10374265 431.14889373 437.91240692 427.44257225]\n"
     ]
    }
   ],
   "source": [
    "y_pred=model.predict(x_test)\n",
    "print('predicted AdmitChance:',y_pred,sep='\\n')"
   ]
  },
  {
   "cell_type": "code",
   "execution_count": 18,
   "metadata": {},
   "outputs": [
    {
     "data": {
      "text/plain": [
       "<matplotlib.collections.PathCollection at 0x28a38e01f28>"
      ]
     },
     "execution_count": 18,
     "metadata": {},
     "output_type": "execute_result"
    },
    {
     "data": {
      "image/png": "[encoded data removed]",
      "text/plain": [
       "<Figure size 432x288 with 1 Axes>"
      ]
     },
     "metadata": {
      "needs_background": "light"
     },
     "output_type": "display_data"
    }
   ],
   "source": [
    "\n",
    "y=y_test.iloc[:].values\n",
    "plt.scatter(y,y_pred)"
   ]
  },
  {
   "cell_type": "code",
   "execution_count": 19,
   "metadata": {},
   "outputs": [
    {
     "name": "stdout",
     "output_type": "stream",
     "text": [
      "The model performance\n",
      "-----------------------\n",
      "RMSE is 3.0532604493464226\n",
      "R2 is 0.7476415112436842\n"
     ]
    }
   ],
   "source": [
    "from sklearn.metrics import mean_squared_error,r2_score\n",
    "import numpy as np\n",
    "rmse=(np.sqrt(mean_squared_error(y,y_pred)))\n",
    "r2=r2_score(y,y_pred)\n",
    "print(\"The model performance\")\n",
    "print(\"-----------------------\")\n",
    "print(\"RMSE is {}\".format(rmse))\n",
    "print(\"R2 is {}\".format(r2))"
   ]
  },
  {
   "cell_type": "code",
   "execution_count": 20,
   "metadata": {},
   "outputs": [],
   "source": [
    "x=data1[['unemployment','TaxCollection']]\n",
    "y=data1['Alcohol consumers']"
   ]
  },
  {
   "cell_type": "code",
   "execution_count": 21,
   "metadata": {},
   "outputs": [
    {
     "name": "stderr",
     "output_type": "stream",
     "text": [
      "C:\\Users\\Domain\\Anaconda3\\lib\\site-packages\\sklearn\\preprocessing\\data.py:323: DataConversionWarning: Data with input dtype int64, float64 were all converted to float64 by MinMaxScaler.\n",
      "  return self.partial_fit(X, y)\n"
     ]
    },
    {
     "data": {
      "text/plain": [
       "array([[0.02173913, 0.33196527],\n",
       "       [0.        , 0.51728493],\n",
       "       [0.2173913 , 0.49297553],\n",
       "       [0.32608696, 0.1679558 ],\n",
       "       [0.30434783, 0.3629045 ],\n",
       "       [0.2826087 , 0.26377269],\n",
       "       [0.60869565, 0.50686661],\n",
       "       [0.41304348, 0.32691397],\n",
       "       [0.41304348, 0.39289661],\n",
       "       [0.91304348, 0.26692976],\n",
       "       [0.15217391, 0.2789266 ],\n",
       "       [0.95652174, 0.28113654],\n",
       "       [0.10869565, 0.53717443],\n",
       "       [0.82608696, 0.70828729],\n",
       "       [0.19565217, 0.78121547],\n",
       "       [0.02173913, 0.22778216],\n",
       "       [0.73913043, 0.42288871],\n",
       "       [0.10869565, 0.20394633],\n",
       "       [0.82608696, 0.7234412 ],\n",
       "       [0.26086957, 0.565588  ],\n",
       "       [0.91304348, 0.5878453 ],\n",
       "       [0.26086957, 0.47403315],\n",
       "       [0.        , 0.52770324],\n",
       "       [0.34782609, 0.45887924],\n",
       "       [0.41304348, 0.3359116 ],\n",
       "       [0.89130435, 0.32628256],\n",
       "       [0.97826087, 0.17995264],\n",
       "       [0.80434783, 0.48587214],\n",
       "       [0.10869565, 0.        ],\n",
       "       [0.2826087 , 0.59715864],\n",
       "       [0.08695652, 0.57505919],\n",
       "       [0.        , 0.28192581],\n",
       "       [0.02173913, 0.35406472],\n",
       "       [0.97826087, 0.34490923],\n",
       "       [0.2173913 , 0.60031571],\n",
       "       [0.02173913, 0.09597474],\n",
       "       [0.95652174, 0.49187056],\n",
       "       [0.17391304, 0.10781373],\n",
       "       [0.36956522, 0.60883978],\n",
       "       [0.91304348, 0.71081294],\n",
       "       [0.13043478, 0.29092344],\n",
       "       [0.2826087 , 0.60757695],\n",
       "       [0.5       , 0.13875296],\n",
       "       [0.41304348, 0.42352013],\n",
       "       [0.43478261, 0.62083662],\n",
       "       [0.80434783, 0.62872928],\n",
       "       [0.        , 0.6718232 ],\n",
       "       [0.2173913 , 0.54885556],\n",
       "       [0.91304348, 0.22557222],\n",
       "       [0.39130435, 0.56243094],\n",
       "       [0.        , 0.57584846],\n",
       "       [0.06521739, 0.51286504],\n",
       "       [0.65217391, 0.33512234],\n",
       "       [0.39130435, 0.53812155],\n",
       "       [0.47826087, 0.35690608],\n",
       "       [0.86956522, 0.61783741],\n",
       "       [0.86956522, 0.45588003],\n",
       "       [0.        , 0.45130229],\n",
       "       [0.76086957, 0.17348066],\n",
       "       [0.34782609, 0.62983425],\n",
       "       [0.54347826, 0.31491713],\n",
       "       [0.15217391, 0.51381215],\n",
       "       [1.        , 0.23093923],\n",
       "       [0.2173913 , 0.26992897],\n",
       "       [0.04347826, 0.15895817],\n",
       "       [0.02173913, 0.36353591],\n",
       "       [0.93478261, 0.68555643],\n",
       "       [0.47826087, 0.28192581],\n",
       "       [0.47826087, 0.59368587],\n",
       "       [0.2173913 , 0.20820837],\n",
       "       [0.19565217, 0.23251776],\n",
       "       [0.2826087 , 0.35090766],\n",
       "       [0.76086957, 0.3382794 ],\n",
       "       [0.86956522, 0.4617206 ],\n",
       "       [0.56521739, 0.31617995],\n",
       "       [0.84782609, 0.52486188],\n",
       "       [0.23913043, 0.38531965],\n",
       "       [0.06521739, 0.57284925],\n",
       "       [0.08695652, 0.70781373],\n",
       "       [0.5       , 0.49187056],\n",
       "       [0.2826087 , 0.29992107],\n",
       "       [0.58695652, 0.65982636],\n",
       "       [0.08695652, 0.63883189],\n",
       "       [0.65217391, 0.75280189],\n",
       "       [0.41304348, 0.54980268],\n",
       "       [0.58695652, 0.17395422],\n",
       "       [0.84782609, 0.43488556],\n",
       "       [0.82608696, 0.30986582],\n",
       "       [0.60869565, 0.32691397],\n",
       "       [0.80434783, 0.30292028],\n",
       "       [0.06521739, 0.69786898],\n",
       "       [0.76086957, 0.23393844],\n",
       "       [0.89130435, 0.39289661],\n",
       "       [0.36956522, 0.54885556],\n",
       "       [1.        , 0.43930545],\n",
       "       [0.2173913 , 0.63883189],\n",
       "       [0.7826087 , 0.42352013],\n",
       "       [0.80434783, 0.65966851],\n",
       "       [0.82608696, 0.08097869],\n",
       "       [0.43478261, 0.06045777],\n",
       "       [0.5       , 0.44877664],\n",
       "       [0.26086957, 0.25493291],\n",
       "       [0.        , 0.40189424],\n",
       "       [0.93478261, 0.39573796],\n",
       "       [0.34782609, 0.31933702],\n",
       "       [0.04347826, 0.3359116 ],\n",
       "       [0.02173913, 0.34775059],\n",
       "       [0.17391304, 0.42588792],\n",
       "       [0.23913043, 0.3332281 ],\n",
       "       [0.97826087, 0.55895817],\n",
       "       [0.7826087 , 0.51286504],\n",
       "       [0.80434783, 0.38879242],\n",
       "       [0.41304348, 0.42352013],\n",
       "       [0.06521739, 0.57884767],\n",
       "       [0.73913043, 0.46787687],\n",
       "       [0.91304348, 0.35390687],\n",
       "       [0.86956522, 1.        ],\n",
       "       [0.23913043, 0.3332281 ],\n",
       "       [0.67391304, 0.30891871],\n",
       "       [0.41304348, 0.18895028],\n",
       "       [0.56521739, 0.62241515],\n",
       "       [0.        , 0.20094712],\n",
       "       [0.04347826, 0.36590371]])"
      ]
     },
     "execution_count": 21,
     "metadata": {},
     "output_type": "execute_result"
    }
   ],
   "source": [
    "from sklearn import preprocessing\n",
    "minmax=preprocessing.MinMaxScaler(feature_range=(0,1))\n",
    "x=minmax.fit(x).transform(x)\n",
    "x"
   ]
  },
  {
   "cell_type": "code",
   "execution_count": 22,
   "metadata": {
    "scrolled": true
   },
   "outputs": [
    {
     "data": {
      "text/html": [
       "<table class=\"simpletable\">\n",
       "<caption>OLS Regression Results</caption>\n",
       "<tr>\n",
       "  <th>Dep. Variable:</th>    <td>Alcohol consumers</td> <th>  R-squared:         </th> <td>   0.885</td>\n",
       "</tr>\n",
       "<tr>\n",
       "  <th>Model:</th>                   <td>OLS</td>        <th>  Adj. R-squared:    </th> <td>   0.883</td>\n",
       "</tr>\n",
       "<tr>\n",
       "  <th>Method:</th>             <td>Least Squares</td>   <th>  F-statistic:       </th> <td>   463.6</td>\n",
       "</tr>\n",
       "<tr>\n",
       "  <th>Date:</th>             <td>Tue, 04 Jun 2019</td>  <th>  Prob (F-statistic):</th> <td>1.87e-57</td>\n",
       "</tr>\n",
       "<tr>\n",
       "  <th>Time:</th>                 <td>14:13:17</td>      <th>  Log-Likelihood:    </th> <td> -787.97</td>\n",
       "</tr>\n",
       "<tr>\n",
       "  <th>No. Observations:</th>      <td>   123</td>       <th>  AIC:               </th> <td>   1580.</td>\n",
       "</tr>\n",
       "<tr>\n",
       "  <th>Df Residuals:</th>          <td>   121</td>       <th>  BIC:               </th> <td>   1586.</td>\n",
       "</tr>\n",
       "<tr>\n",
       "  <th>Df Model:</th>              <td>     2</td>       <th>                     </th>     <td> </td>   \n",
       "</tr>\n",
       "<tr>\n",
       "  <th>Covariance Type:</th>      <td>nonrobust</td>     <th>                     </th>     <td> </td>   \n",
       "</tr>\n",
       "</table>\n",
       "<table class=\"simpletable\">\n",
       "<tr>\n",
       "   <td></td>     <th>coef</th>     <th>std err</th>      <th>t</th>      <th>P>|t|</th>  <th>[0.025</th>    <th>0.975]</th>  \n",
       "</tr>\n",
       "<tr>\n",
       "  <th>x1</th> <td>  193.6672</td> <td>   37.192</td> <td>    5.207</td> <td> 0.000</td> <td>  120.037</td> <td>  267.298</td>\n",
       "</tr>\n",
       "<tr>\n",
       "  <th>x2</th> <td>  692.2312</td> <td>   44.959</td> <td>   15.397</td> <td> 0.000</td> <td>  603.223</td> <td>  781.239</td>\n",
       "</tr>\n",
       "</table>\n",
       "<table class=\"simpletable\">\n",
       "<tr>\n",
       "  <th>Omnibus:</th>       <td> 2.242</td> <th>  Durbin-Watson:     </th> <td>   1.887</td>\n",
       "</tr>\n",
       "<tr>\n",
       "  <th>Prob(Omnibus):</th> <td> 0.326</td> <th>  Jarque-Bera (JB):  </th> <td>   1.717</td>\n",
       "</tr>\n",
       "<tr>\n",
       "  <th>Skew:</th>          <td>-0.207</td> <th>  Prob(JB):          </th> <td>   0.424</td>\n",
       "</tr>\n",
       "<tr>\n",
       "  <th>Kurtosis:</th>      <td> 3.404</td> <th>  Cond. No.          </th> <td>    2.80</td>\n",
       "</tr>\n",
       "</table><br/><br/>Warnings:<br/>[1] Standard Errors assume that the covariance matrix of the errors is correctly specified."
      ],
      "text/plain": [
       "<class 'statsmodels.iolib.summary.Summary'>\n",
       "\"\"\"\n",
       "                            OLS Regression Results                            \n",
       "==============================================================================\n",
       "Dep. Variable:      Alcohol consumers   R-squared:                       0.885\n",
       "Model:                            OLS   Adj. R-squared:                  0.883\n",
       "Method:                 Least Squares   F-statistic:                     463.6\n",
       "Date:                Tue, 04 Jun 2019   Prob (F-statistic):           1.87e-57\n",
       "Time:                        14:13:17   Log-Likelihood:                -787.97\n",
       "No. Observations:                 123   AIC:                             1580.\n",
       "Df Residuals:                     121   BIC:                             1586.\n",
       "Df Model:                           2                                         \n",
       "Covariance Type:            nonrobust                                         \n",
       "==============================================================================\n",
       "                 coef    std err          t      P>|t|      [0.025      0.975]\n",
       "------------------------------------------------------------------------------\n",
       "x1           193.6672     37.192      5.207      0.000     120.037     267.298\n",
       "x2           692.2312     44.959     15.397      0.000     603.223     781.239\n",
       "==============================================================================\n",
       "Omnibus:                        2.242   Durbin-Watson:                   1.887\n",
       "Prob(Omnibus):                  0.326   Jarque-Bera (JB):                1.717\n",
       "Skew:                          -0.207   Prob(JB):                        0.424\n",
       "Kurtosis:                       3.404   Cond. No.                         2.80\n",
       "==============================================================================\n",
       "\n",
       "Warnings:\n",
       "[1] Standard Errors assume that the covariance matrix of the errors is correctly specified.\n",
       "\"\"\""
      ]
     },
     "execution_count": 22,
     "metadata": {},
     "output_type": "execute_result"
    }
   ],
   "source": [
    "import statsmodels.api as sm\n",
    "osl_model=sm.OLS(y,x).fit()\n",
    "predictions=osl_model.predict()\n",
    "osl_model.summary()"
   ]
  },
  {
   "cell_type": "code",
   "execution_count": 23,
   "metadata": {},
   "outputs": [],
   "source": [
    "from sklearn.model_selection import train_test_split,cross_val_score\n",
    "x_train,x_test,y_train,y_test=train_test_split(x,y,test_size=0.10,random_state=1)"
   ]
  },
  {
   "cell_type": "code",
   "execution_count": 24,
   "metadata": {},
   "outputs": [
    {
     "data": {
      "text/plain": [
       "LinearRegression(copy_X=True, fit_intercept=True, n_jobs=None,\n",
       "         normalize=False)"
      ]
     },
     "execution_count": 24,
     "metadata": {},
     "output_type": "execute_result"
    }
   ],
   "source": [
    "from sklearn import linear_model as lm\n",
    "model=lm.LinearRegression()\n",
    "results=model.fit(x_test,y_test)\n",
    "results"
   ]
  },
  {
   "cell_type": "code",
   "execution_count": 25,
   "metadata": {},
   "outputs": [
    {
     "name": "stdout",
     "output_type": "stream",
     "text": [
      "Accuracy of the model: 0.5718584604454496\n"
     ]
    }
   ],
   "source": [
    "accuracy=model.score(x,y)\n",
    "print('Accuracy of the model:',accuracy)"
   ]
  },
  {
   "cell_type": "code",
   "execution_count": 26,
   "metadata": {},
   "outputs": [
    {
     "name": "stdout",
     "output_type": "stream",
     "text": [
      "Intercept: 419.2727143824496\n",
      "slope: [-0.17007765 28.54110178]\n"
     ]
    }
   ],
   "source": [
    "print('Intercept:',model.intercept_)\n",
    "print('slope:',model.coef_)"
   ]
  },
  {
   "cell_type": "code",
   "execution_count": 30,
   "metadata": {},
   "outputs": [
    {
     "name": "stdout",
     "output_type": "stream",
     "text": [
      "predicted AdmitChance:\n",
      "[425.55550572 435.78257268 432.30283541 428.85260693 437.08053922\n",
      " 427.31918759 427.23784611 438.44728884 437.96357883 440.64758966\n",
      " 432.50072631 428.95042364 420.92429907]\n"
     ]
    }
   ],
   "source": [
    "y_pred=model.predict(x_test)\n",
    "print('predicted AdmitChance:',y_pred,sep='\\n')"
   ]
  },
  {
   "cell_type": "code",
   "execution_count": 35,
   "metadata": {},
   "outputs": [
    {
     "data": {
      "text/plain": [
       "<matplotlib.collections.PathCollection at 0x28a395bd940>"
      ]
     },
     "execution_count": 35,
     "metadata": {},
     "output_type": "execute_result"
    },
    {
     "data": {
      "image/png": "[encoded data removed]",
      "text/plain": [
       "<Figure size 432x288 with 1 Axes>"
      ]
     },
     "metadata": {
      "needs_background": "light"
     },
     "output_type": "display_data"
    }
   ],
   "source": [
    "y=y_test.iloc[:].values\n",
    "plt.scatter(y,y_pred)"
   ]
  },
  {
   "cell_type": "code",
   "execution_count": 36,
   "metadata": {},
   "outputs": [
    {
     "name": "stdout",
     "output_type": "stream",
     "text": [
      "The model performance\n",
      "-----------------------\n",
      "RMSE is 2.8815409863516668\n",
      "R2 is 0.7955082552283418\n"
     ]
    }
   ],
   "source": [
    "from sklearn.metrics import mean_squared_error,r2_score\n",
    "import numpy as np\n",
    "rmse=(np.sqrt(mean_squared_error(y,y_pred)))\n",
    "r2=r2_score(y,y_pred)\n",
    "print(\"The model performance\")\n",
    "print(\"-----------------------\")\n",
    "print(\"RMSE is {}\".format(rmse))\n",
    "print(\"R2 is {}\".format(r2))"
   ]
  },
  {
   "cell_type": "code",
   "execution_count": 37,
   "metadata": {},
   "outputs": [],
   "source": [
    "x=data1[['year','unemployment','TaxCollection']]\n",
    "y=data1['Alcohol consumers']"
   ]
  },
  {
   "cell_type": "code",
   "execution_count": 38,
   "metadata": {},
   "outputs": [
    {
     "name": "stderr",
     "output_type": "stream",
     "text": [
      "C:\\Users\\Domain\\Anaconda3\\lib\\site-packages\\sklearn\\preprocessing\\data.py:323: DataConversionWarning: Data with input dtype int64, float64 were all converted to float64 by MinMaxScaler.\n",
      "  return self.partial_fit(X, y)\n"
     ]
    },
    {
     "data": {
      "text/plain": [
       "array([[0.        , 0.02173913, 0.33196527],\n",
       "       [0.        , 0.        , 0.51728493],\n",
       "       [0.        , 0.2173913 , 0.49297553],\n",
       "       [0.025     , 0.32608696, 0.1679558 ],\n",
       "       [0.025     , 0.30434783, 0.3629045 ],\n",
       "       [0.025     , 0.2826087 , 0.26377269],\n",
       "       [0.05      , 0.60869565, 0.50686661],\n",
       "       [0.05      , 0.41304348, 0.32691397],\n",
       "       [0.05      , 0.41304348, 0.39289661],\n",
       "       [0.075     , 0.91304348, 0.26692976],\n",
       "       [0.075     , 0.15217391, 0.2789266 ],\n",
       "       [0.075     , 0.95652174, 0.28113654],\n",
       "       [0.1       , 0.10869565, 0.53717443],\n",
       "       [0.1       , 0.82608696, 0.70828729],\n",
       "       [0.1       , 0.19565217, 0.78121547],\n",
       "       [0.125     , 0.02173913, 0.22778216],\n",
       "       [0.125     , 0.73913043, 0.42288871],\n",
       "       [0.125     , 0.10869565, 0.20394633],\n",
       "       [0.15      , 0.82608696, 0.7234412 ],\n",
       "       [0.15      , 0.26086957, 0.565588  ],\n",
       "       [0.15      , 0.91304348, 0.5878453 ],\n",
       "       [0.175     , 0.26086957, 0.47403315],\n",
       "       [0.175     , 0.        , 0.52770324],\n",
       "       [0.175     , 0.34782609, 0.45887924],\n",
       "       [0.2       , 0.41304348, 0.3359116 ],\n",
       "       [0.2       , 0.89130435, 0.32628256],\n",
       "       [0.2       , 0.97826087, 0.17995264],\n",
       "       [0.225     , 0.80434783, 0.48587214],\n",
       "       [0.225     , 0.10869565, 0.        ],\n",
       "       [0.225     , 0.2826087 , 0.59715864],\n",
       "       [0.25      , 0.08695652, 0.57505919],\n",
       "       [0.25      , 0.        , 0.28192581],\n",
       "       [0.25      , 0.02173913, 0.35406472],\n",
       "       [0.275     , 0.97826087, 0.34490923],\n",
       "       [0.275     , 0.2173913 , 0.60031571],\n",
       "       [0.275     , 0.02173913, 0.09597474],\n",
       "       [0.3       , 0.95652174, 0.49187056],\n",
       "       [0.3       , 0.17391304, 0.10781373],\n",
       "       [0.3       , 0.36956522, 0.60883978],\n",
       "       [0.325     , 0.91304348, 0.71081294],\n",
       "       [0.325     , 0.13043478, 0.29092344],\n",
       "       [0.325     , 0.2826087 , 0.60757695],\n",
       "       [0.35      , 0.5       , 0.13875296],\n",
       "       [0.35      , 0.41304348, 0.42352013],\n",
       "       [0.35      , 0.43478261, 0.62083662],\n",
       "       [0.375     , 0.80434783, 0.62872928],\n",
       "       [0.375     , 0.        , 0.6718232 ],\n",
       "       [0.375     , 0.2173913 , 0.54885556],\n",
       "       [0.4       , 0.91304348, 0.22557222],\n",
       "       [0.4       , 0.39130435, 0.56243094],\n",
       "       [0.4       , 0.        , 0.57584846],\n",
       "       [0.425     , 0.06521739, 0.51286504],\n",
       "       [0.425     , 0.65217391, 0.33512234],\n",
       "       [0.425     , 0.39130435, 0.53812155],\n",
       "       [0.45      , 0.47826087, 0.35690608],\n",
       "       [0.45      , 0.86956522, 0.61783741],\n",
       "       [0.45      , 0.86956522, 0.45588003],\n",
       "       [0.475     , 0.        , 0.45130229],\n",
       "       [0.475     , 0.76086957, 0.17348066],\n",
       "       [0.475     , 0.34782609, 0.62983425],\n",
       "       [0.5       , 0.54347826, 0.31491713],\n",
       "       [0.5       , 0.15217391, 0.51381215],\n",
       "       [0.5       , 1.        , 0.23093923],\n",
       "       [0.525     , 0.2173913 , 0.26992897],\n",
       "       [0.525     , 0.04347826, 0.15895817],\n",
       "       [0.525     , 0.02173913, 0.36353591],\n",
       "       [0.55      , 0.93478261, 0.68555643],\n",
       "       [0.55      , 0.47826087, 0.28192581],\n",
       "       [0.55      , 0.47826087, 0.59368587],\n",
       "       [0.575     , 0.2173913 , 0.20820837],\n",
       "       [0.575     , 0.19565217, 0.23251776],\n",
       "       [0.6       , 0.2826087 , 0.35090766],\n",
       "       [0.6       , 0.76086957, 0.3382794 ],\n",
       "       [0.6       , 0.86956522, 0.4617206 ],\n",
       "       [0.625     , 0.56521739, 0.31617995],\n",
       "       [0.625     , 0.84782609, 0.52486188],\n",
       "       [0.625     , 0.23913043, 0.38531965],\n",
       "       [0.65      , 0.06521739, 0.57284925],\n",
       "       [0.65      , 0.08695652, 0.70781373],\n",
       "       [0.675     , 0.5       , 0.49187056],\n",
       "       [0.7       , 0.2826087 , 0.29992107],\n",
       "       [0.7       , 0.58695652, 0.65982636],\n",
       "       [0.725     , 0.08695652, 0.63883189],\n",
       "       [0.75      , 0.65217391, 0.75280189],\n",
       "       [0.75      , 0.41304348, 0.54980268],\n",
       "       [0.775     , 0.58695652, 0.17395422],\n",
       "       [0.775     , 0.84782609, 0.43488556],\n",
       "       [0.8       , 0.82608696, 0.30986582],\n",
       "       [0.825     , 0.60869565, 0.32691397],\n",
       "       [0.825     , 0.80434783, 0.30292028],\n",
       "       [0.85      , 0.06521739, 0.69786898],\n",
       "       [0.85      , 0.76086957, 0.23393844],\n",
       "       [0.85      , 0.89130435, 0.39289661],\n",
       "       [0.875     , 0.36956522, 0.54885556],\n",
       "       [0.875     , 1.        , 0.43930545],\n",
       "       [0.9       , 0.2173913 , 0.63883189],\n",
       "       [0.925     , 0.7826087 , 0.42352013],\n",
       "       [0.95      , 0.80434783, 0.65966851],\n",
       "       [0.95      , 0.82608696, 0.08097869],\n",
       "       [0.95      , 0.43478261, 0.06045777],\n",
       "       [0.975     , 0.5       , 0.44877664],\n",
       "       [1.        , 0.26086957, 0.25493291],\n",
       "       [1.        , 0.        , 0.40189424],\n",
       "       [0.575     , 0.93478261, 0.39573796],\n",
       "       [0.65      , 0.34782609, 0.31933702],\n",
       "       [0.675     , 0.04347826, 0.3359116 ],\n",
       "       [0.675     , 0.02173913, 0.34775059],\n",
       "       [0.7       , 0.17391304, 0.42588792],\n",
       "       [0.725     , 0.23913043, 0.3332281 ],\n",
       "       [0.725     , 0.97826087, 0.55895817],\n",
       "       [0.75      , 0.7826087 , 0.51286504],\n",
       "       [0.775     , 0.80434783, 0.38879242],\n",
       "       [0.8       , 0.41304348, 0.42352013],\n",
       "       [0.8       , 0.06521739, 0.57884767],\n",
       "       [0.825     , 0.73913043, 0.46787687],\n",
       "       [0.875     , 0.91304348, 0.35390687],\n",
       "       [0.9       , 0.86956522, 1.        ],\n",
       "       [0.9       , 0.23913043, 0.3332281 ],\n",
       "       [0.925     , 0.67391304, 0.30891871],\n",
       "       [0.925     , 0.41304348, 0.18895028],\n",
       "       [0.975     , 0.56521739, 0.62241515],\n",
       "       [0.975     , 0.        , 0.20094712],\n",
       "       [1.        , 0.04347826, 0.36590371]])"
      ]
     },
     "execution_count": 38,
     "metadata": {},
     "output_type": "execute_result"
    }
   ],
   "source": [
    "from sklearn import preprocessing\n",
    "minmax=preprocessing.MinMaxScaler(feature_range=(0,1))\n",
    "x=minmax.fit(x).transform(x)\n",
    "x"
   ]
  },
  {
   "cell_type": "code",
   "execution_count": 39,
   "metadata": {},
   "outputs": [
    {
     "data": {
      "text/html": [
       "<table class=\"simpletable\">\n",
       "<caption>OLS Regression Results</caption>\n",
       "<tr>\n",
       "  <th>Dep. Variable:</th>    <td>Alcohol consumers</td> <th>  R-squared:         </th> <td>   0.911</td>\n",
       "</tr>\n",
       "<tr>\n",
       "  <th>Model:</th>                   <td>OLS</td>        <th>  Adj. R-squared:    </th> <td>   0.908</td>\n",
       "</tr>\n",
       "<tr>\n",
       "  <th>Method:</th>             <td>Least Squares</td>   <th>  F-statistic:       </th> <td>   407.9</td>\n",
       "</tr>\n",
       "<tr>\n",
       "  <th>Date:</th>             <td>Tue, 04 Jun 2019</td>  <th>  Prob (F-statistic):</th> <td>9.43e-63</td>\n",
       "</tr>\n",
       "<tr>\n",
       "  <th>Time:</th>                 <td>14:16:44</td>      <th>  Log-Likelihood:    </th> <td> -772.18</td>\n",
       "</tr>\n",
       "<tr>\n",
       "  <th>No. Observations:</th>      <td>   123</td>       <th>  AIC:               </th> <td>   1550.</td>\n",
       "</tr>\n",
       "<tr>\n",
       "  <th>Df Residuals:</th>          <td>   120</td>       <th>  BIC:               </th> <td>   1559.</td>\n",
       "</tr>\n",
       "<tr>\n",
       "  <th>Df Model:</th>              <td>     3</td>       <th>                     </th>     <td> </td>   \n",
       "</tr>\n",
       "<tr>\n",
       "  <th>Covariance Type:</th>      <td>nonrobust</td>     <th>                     </th>     <td> </td>   \n",
       "</tr>\n",
       "</table>\n",
       "<table class=\"simpletable\">\n",
       "<tr>\n",
       "   <td></td>     <th>coef</th>     <th>std err</th>      <th>t</th>      <th>P>|t|</th>  <th>[0.025</th>    <th>0.975]</th>  \n",
       "</tr>\n",
       "<tr>\n",
       "  <th>x1</th> <td>  209.6229</td> <td>   35.371</td> <td>    5.926</td> <td> 0.000</td> <td>  139.590</td> <td>  279.655</td>\n",
       "</tr>\n",
       "<tr>\n",
       "  <th>x2</th> <td>  125.0783</td> <td>   34.827</td> <td>    3.591</td> <td> 0.000</td> <td>   56.124</td> <td>  194.033</td>\n",
       "</tr>\n",
       "<tr>\n",
       "  <th>x3</th> <td>  544.6545</td> <td>   46.870</td> <td>   11.621</td> <td> 0.000</td> <td>  451.855</td> <td>  637.454</td>\n",
       "</tr>\n",
       "</table>\n",
       "<table class=\"simpletable\">\n",
       "<tr>\n",
       "  <th>Omnibus:</th>       <td> 2.866</td> <th>  Durbin-Watson:     </th> <td>   1.368</td>\n",
       "</tr>\n",
       "<tr>\n",
       "  <th>Prob(Omnibus):</th> <td> 0.239</td> <th>  Jarque-Bera (JB):  </th> <td>   2.666</td>\n",
       "</tr>\n",
       "<tr>\n",
       "  <th>Skew:</th>          <td>-0.136</td> <th>  Prob(JB):          </th> <td>   0.264</td>\n",
       "</tr>\n",
       "<tr>\n",
       "  <th>Kurtosis:</th>      <td> 3.668</td> <th>  Cond. No.          </th> <td>    3.85</td>\n",
       "</tr>\n",
       "</table><br/><br/>Warnings:<br/>[1] Standard Errors assume that the covariance matrix of the errors is correctly specified."
      ],
      "text/plain": [
       "<class 'statsmodels.iolib.summary.Summary'>\n",
       "\"\"\"\n",
       "                            OLS Regression Results                            \n",
       "==============================================================================\n",
       "Dep. Variable:      Alcohol consumers   R-squared:                       0.911\n",
       "Model:                            OLS   Adj. R-squared:                  0.908\n",
       "Method:                 Least Squares   F-statistic:                     407.9\n",
       "Date:                Tue, 04 Jun 2019   Prob (F-statistic):           9.43e-63\n",
       "Time:                        14:16:44   Log-Likelihood:                -772.18\n",
       "No. Observations:                 123   AIC:                             1550.\n",
       "Df Residuals:                     120   BIC:                             1559.\n",
       "Df Model:                           3                                         \n",
       "Covariance Type:            nonrobust                                         \n",
       "==============================================================================\n",
       "                 coef    std err          t      P>|t|      [0.025      0.975]\n",
       "------------------------------------------------------------------------------\n",
       "x1           209.6229     35.371      5.926      0.000     139.590     279.655\n",
       "x2           125.0783     34.827      3.591      0.000      56.124     194.033\n",
       "x3           544.6545     46.870     11.621      0.000     451.855     637.454\n",
       "==============================================================================\n",
       "Omnibus:                        2.866   Durbin-Watson:                   1.368\n",
       "Prob(Omnibus):                  0.239   Jarque-Bera (JB):                2.666\n",
       "Skew:                          -0.136   Prob(JB):                        0.264\n",
       "Kurtosis:                       3.668   Cond. No.                         3.85\n",
       "==============================================================================\n",
       "\n",
       "Warnings:\n",
       "[1] Standard Errors assume that the covariance matrix of the errors is correctly specified.\n",
       "\"\"\""
      ]
     },
     "execution_count": 39,
     "metadata": {},
     "output_type": "execute_result"
    }
   ],
   "source": [
    "import statsmodels.api as sm\n",
    "osl_model=sm.OLS(y,x).fit()\n",
    "predictions=osl_model.predict()\n",
    "osl_model.summary()"
   ]
  },
  {
   "cell_type": "code",
   "execution_count": 40,
   "metadata": {},
   "outputs": [],
   "source": [
    "from sklearn.model_selection import train_test_split,cross_val_score\n",
    "x_train,x_test,y_train,y_test=train_test_split(x,y,test_size=0.30,random_state=1)"
   ]
  },
  {
   "cell_type": "code",
   "execution_count": 41,
   "metadata": {},
   "outputs": [
    {
     "data": {
      "text/plain": [
       "LinearRegression(copy_X=True, fit_intercept=True, n_jobs=None,\n",
       "         normalize=False)"
      ]
     },
     "execution_count": 41,
     "metadata": {},
     "output_type": "execute_result"
    }
   ],
   "source": [
    "from sklearn import linear_model as lm\n",
    "model=lm.LinearRegression()\n",
    "results=model.fit(x_test,y_test)\n",
    "results"
   ]
  },
  {
   "cell_type": "code",
   "execution_count": 42,
   "metadata": {},
   "outputs": [
    {
     "name": "stdout",
     "output_type": "stream",
     "text": [
      "Accuracy of the model: 0.5516201477564877\n"
     ]
    }
   ],
   "source": [
    "accuracy=model.score(x,y)\n",
    "print('Accuracy of the model:',accuracy)"
   ]
  },
  {
   "cell_type": "code",
   "execution_count": 43,
   "metadata": {},
   "outputs": [
    {
     "name": "stdout",
     "output_type": "stream",
     "text": [
      "Intercept: 420.35378406634555\n",
      "slope: [-0.27584852 -1.29222386 25.8515937 ]\n"
     ]
    }
   ],
   "source": [
    "print('Intercept:',model.intercept_)\n",
    "print('slope:',model.coef_)"
   ]
  },
  {
   "cell_type": "code",
   "execution_count": 46,
   "metadata": {},
   "outputs": [
    {
     "name": "stdout",
     "output_type": "stream",
     "text": [
      "predicted AdmitChance:\n",
      "[424.89498942 435.01296461 431.00081538 428.79525293 435.46459736\n",
      " 427.5730534  426.87227874 437.61804139 436.10581278 438.76527169\n",
      " 431.26644992 427.93024708 421.09282133 444.83344118 427.98038417\n",
      " 435.44486803 432.81706901 426.9177837  428.45926123 433.4106515\n",
      " 429.57885445 438.36022829 427.54893414 425.45118154 423.87851613\n",
      " 428.83822303 422.73093398 425.29677103 427.79088512 421.11766689\n",
      " 434.89927313 423.1981103  431.04031113 435.07806104 433.64219523\n",
      " 435.74501673 424.893783  ]\n"
     ]
    }
   ],
   "source": [
    "\n",
    "y=y_test.iloc[:].values\n",
    "y_pred=model.predict(x_test)\n",
    "print('predicted AdmitChance:',y_pred,sep='\\n')"
   ]
  },
  {
   "cell_type": "code",
   "execution_count": 47,
   "metadata": {},
   "outputs": [
    {
     "data": {
      "text/plain": [
       "<matplotlib.collections.PathCollection at 0x28a39688630>"
      ]
     },
     "execution_count": 47,
     "metadata": {},
     "output_type": "execute_result"
    },
    {
     "data": {
      "image/png": "[encoded data removed]",
      "text/plain": [
       "<Figure size 432x288 with 1 Axes>"
      ]
     },
     "metadata": {
      "needs_background": "light"
     },
     "output_type": "display_data"
    }
   ],
   "source": [
    "plt.scatter(y,y_pred)"
   ]
  },
  {
   "cell_type": "code",
   "execution_count": 48,
   "metadata": {},
   "outputs": [
    {
     "name": "stdout",
     "output_type": "stream",
     "text": [
      "The model performance\n",
      "-----------------------\n",
      "RMSE is 2.9624160913554487\n",
      "R2 is 0.7724199154942548\n"
     ]
    }
   ],
   "source": [
    "import numpy as np\n",
    "rmse=(np.sqrt(mean_squared_error(y,y_pred)))\n",
    "r2=r2_score(y,y_pred)\n",
    "print(\"The model performance\")\n",
    "print(\"-----------------------\")\n",
    "print(\"RMSE is {}\".format(rmse))\n",
    "print(\"R2 is {}\".format(r2))"
   ]
  }
 ],
 "metadata": {
  "kernelspec": {
   "display_name": "Python 3",
   "language": "python",
   "name": "python3"
  },
  "language_info": {
   "codemirror_mode": {
    "name": "ipython",
    "version": 3
   },
   "file_extension": ".py",
   "mimetype": "text/x-python",
   "name": "python",
   "nbconvert_exporter": "python",
   "pygments_lexer": "ipython3",
   "version": "3.7.1"
  }
 },
 "nbformat": 4,
 "nbformat_minor": 2
}
